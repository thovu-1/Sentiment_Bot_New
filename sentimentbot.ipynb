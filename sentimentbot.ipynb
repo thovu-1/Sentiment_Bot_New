{
 "cells": [
  {
   "cell_type": "code",
   "execution_count": 1,
   "metadata": {
    "notebookRunGroups": {
     "groupValue": "1"
    }
   },
   "outputs": [],
   "source": [
    "from textblob import TextBlob\n",
    "from dataclasses import dataclass\n",
    "from dotenv import load_dotenv\n",
    "import pip._vendor.requests as requests # explicitly importing because its ipynb in vscode\n",
    "import os\n",
    "import pandas as pd"
   ]
  },
  {
   "cell_type": "code",
   "execution_count": 2,
   "metadata": {
    "notebookRunGroups": {
     "groupValue": "1"
    }
   },
   "outputs": [],
   "source": [
    "# Grab your access token for your account\n",
    "def configure():\n",
    "    load_dotenv()\n",
    "\n",
    "auth = requests.auth.HTTPBasicAuth(os.getenv('CLIENT_ID'), os.getenv('SECRET_KEY'))\n",
    "data = {\n",
    "    'grant_type': 'password',\n",
    "    'username': os.getenv('USERNAME'),\n",
    "    'password': os.getenv('USER_PASSWORD')\n",
    "}\n",
    "headers = {'User-Agent': 'MyAPI/0.0.1'}\n",
    "res = requests.post('https://www.reddit.com/api/v1/access_token',\n",
    "                    auth=auth, data=data, headers=headers)\n",
    "TOKEN = res.json()['access_token']\n"
   ]
  },
  {
   "cell_type": "code",
   "execution_count": 3,
   "metadata": {
    "notebookRunGroups": {
     "groupValue": "1"
    }
   },
   "outputs": [],
   "source": [
    "# Pass the new headers with the authoization token to make our request\n",
    "headers = {**headers, **{'Authorization': f'bearer {TOKEN}'}}\n",
    "#requests.get('https://oauth.reddit.com/api/v1/me', headers=headers).json()\n",
    "def get_subreddit(subreddit: str, sort: str) -> requests:\n",
    "    \n",
    "    reqString = 'https://oauth.reddit.com/r/' + subreddit + '/' + sort\n",
    "    retReq = requests.get(reqString, headers=headers, params={'limit': 100})\n",
    "    return retReq\n"
   ]
  },
  {
   "cell_type": "code",
   "execution_count": 4,
   "metadata": {},
   "outputs": [],
   "source": [
    "# Example of using 'after'\n",
    "# See how to grab the data back in time below \n",
    "#hot = requests.get('https://oauth.reddit.com/r/leagueoflegends/hot', headers=headers, params={'limit': '100', 'after': 't3_1cj4wff'})"
   ]
  },
  {
   "cell_type": "code",
   "execution_count": 5,
   "metadata": {
    "notebookRunGroups": {
     "groupValue": "1"
    }
   },
   "outputs": [],
   "source": [
    "def parse_subreddit(req: requests) -> pd.DataFrame:\n",
    "    index = 0\n",
    "    new_df = pd.DataFrame()\n",
    "    for post in req.json()['data']['children']:\n",
    "        df_new_row = pd.DataFrame({\n",
    "            'subreddit' : post['data']['subreddit'],\n",
    "            'title': post['data']['title'],\n",
    "            'selftext': post['data']['selftext'],\n",
    "            'upvote_ratio': post['data']['upvote_ratio'],\n",
    "            'upvotes': post['data']['ups'],\n",
    "            'downvotes': post['data']['downs'],\n",
    "            'score': post['data']['score']\n",
    "            }, index=[index])\n",
    "        new_df = pd.concat([new_df, df_new_row])\n",
    "        index += 1\n",
    "    return new_df"
   ]
  },
  {
   "cell_type": "code",
   "execution_count": 6,
   "metadata": {},
   "outputs": [],
   "source": [
    "# How to extrapolate data back in time\n",
    "\n",
    "# This returns the id of the last post (oldest)\n",
    "# post['kind'] + '_' + post['data']['id']\n",
    "# Take output from this and plug it into params using 'after': output(the ID)\n",
    "# This will pull another 100 before \n",
    "# # To see a list of things you can do with the api\n",
    "# post['data'].keys()\n"
   ]
  },
  {
   "cell_type": "code",
   "execution_count": 7,
   "metadata": {
    "notebookRunGroups": {
     "groupValue": "1"
    }
   },
   "outputs": [],
   "source": [
    "\n",
    "@dataclass \n",
    "class Mood:\n",
    "    emoji: str\n",
    "    sentiment: float\n",
    "\n",
    "def average_mood(moods: Mood, threshold: float) -> Mood: \n",
    "    totalSentiment = []\n",
    "    friendly_threshold: float = threshold\n",
    "    hostile_threshold: float = -threshold\n",
    "\n",
    "    for mood in moods:\n",
    "        totalSentiment.append(mood.sentiment)\n",
    "\n",
    "    calculatedSentimate = sum(totalSentiment) / len(totalSentiment)\n",
    "    \n",
    "    if calculatedSentimate >= friendly_threshold:\n",
    "        return Mood('Positive', calculatedSentimate)\n",
    "    elif calculatedSentimate <= hostile_threshold:\n",
    "        return Mood('Negative', calculatedSentimate)\n",
    "    else:\n",
    "        return Mood('Neutral😐', calculatedSentimate)\n",
    "\n",
    "\n",
    "def get_mood(input_text: str, *, threshold: float) -> Mood:\n",
    "    sentiment: float = TextBlob(input_text).sentiment.polarity\n",
    "\n",
    "    friendly_threshold: float = threshold\n",
    "    hostile_threshold: float = -threshold\n",
    "\n",
    "    if sentiment >= friendly_threshold:\n",
    "        return Mood('Positive😊', sentiment)\n",
    "    elif sentiment <= hostile_threshold:\n",
    "        return Mood('Negative😡', sentiment)\n",
    "    else:\n",
    "        return Mood('Neutral😐', sentiment)\n",
    "    \n",
    "def calc_accuracy(df: pd.DataFrame, threshold: float) -> Mood:\n",
    "    titleMoods = []\n",
    "    postMoods = []\n",
    "    for index, row in df.iterrows() :\n",
    "        # print(row['title'], row['selftext'])\n",
    "        titleMood: Mood = get_mood(row['title'], threshold=threshold)  \n",
    "        postMood: Mood = get_mood(row['selftext'], threshold=threshold)\n",
    "        titleMoods.append(titleMood)\n",
    "        postMoods.append(postMood)\n",
    "    avg: Mood= average_mood(titleMoods, threshold)\n",
    "\n",
    "    return avg\n"
   ]
  },
  {
   "cell_type": "code",
   "execution_count": 6,
   "metadata": {
    "notebookRunGroups": {
     "groupValue": "1"
    }
   },
   "outputs": [
    {
     "name": "stdout",
     "output_type": "stream",
     "text": [
      "Hello, welcome to my reddit sentiment bot.\n",
      "Type exit at any timeto stop the program.\n",
      "Please enter a subreddit\n",
      "Please type one of the following sorting methods: best | hot | new | top | rising\n",
      "rising\n",
      "Please type one of the following sorting methods: best | hot | new | top | rising\n",
      "rising\n",
      "Please type one of the following sorting methods: best | hot | new | top | rising\n",
      "\n",
      "Please type one of the following sorting methods: best | hot | new | top | rising\n",
      "\n",
      "Please type one of the following sorting methods: best | hot | new | top | rising\n",
      "\n",
      "Please type one of the following sorting methods: best | hot | new | top | rising\n",
      "\n",
      "Please type one of the following sorting methods: best | hot | new | top | rising\n",
      "\n",
      "Please type one of the following sorting methods: best | hot | new | top | rising\n",
      "\n",
      "Please type one of the following sorting methods: best | hot | new | top | rising\n",
      "\n",
      "Please type one of the following sorting methods: best | hot | new | top | rising\n",
      "\n",
      "Please type one of the following sorting methods: best | hot | new | top | rising\n",
      "\n",
      "Please type one of the following sorting methods: best | hot | new | top | rising\n",
      "\n",
      "Please type one of the following sorting methods: best | hot | new | top | rising\n"
     ]
    },
    {
     "ename": "KeyboardInterrupt",
     "evalue": "Interrupted by user",
     "output_type": "error",
     "traceback": [
      "\u001b[1;31m---------------------------------------------------------------------------\u001b[0m",
      "\u001b[1;31mKeyboardInterrupt\u001b[0m                         Traceback (most recent call last)",
      "Cell \u001b[1;32mIn[6], line 12\u001b[0m\n\u001b[0;32m     10\u001b[0m \u001b[38;5;28;01mwhile\u001b[39;00m text\u001b[38;5;241m.\u001b[39mlower() \u001b[38;5;241m!=\u001b[39m \u001b[38;5;124m'\u001b[39m\u001b[38;5;124mexit\u001b[39m\u001b[38;5;124m'\u001b[39m:\n\u001b[0;32m     11\u001b[0m     \u001b[38;5;28mprint\u001b[39m(\u001b[38;5;124m\"\u001b[39m\u001b[38;5;124mPlease type one of the following sorting methods: best | hot | new | top | rising\u001b[39m\u001b[38;5;124m\"\u001b[39m)\n\u001b[1;32m---> 12\u001b[0m     text: \u001b[38;5;28mstr\u001b[39m \u001b[38;5;241m=\u001b[39m \u001b[38;5;28;43minput\u001b[39;49m\u001b[43m(\u001b[49m\u001b[38;5;124;43m'\u001b[39;49m\u001b[38;5;124;43mmethod: \u001b[39;49m\u001b[38;5;124;43m'\u001b[39;49m\u001b[43m)\u001b[49m\n\u001b[0;32m     14\u001b[0m     \u001b[38;5;28;01mif\u001b[39;00m text\u001b[38;5;241m.\u001b[39mlower \u001b[38;5;241m==\u001b[39m \u001b[38;5;124m'\u001b[39m\u001b[38;5;124mbest\u001b[39m\u001b[38;5;124m'\u001b[39m \u001b[38;5;129;01mor\u001b[39;00m \u001b[38;5;124m'\u001b[39m\u001b[38;5;124mhot\u001b[39m\u001b[38;5;124m'\u001b[39m \u001b[38;5;129;01mor\u001b[39;00m \u001b[38;5;124m'\u001b[39m\u001b[38;5;124mnew\u001b[39m\u001b[38;5;124m'\u001b[39m \u001b[38;5;129;01mor\u001b[39;00m \u001b[38;5;124m'\u001b[39m\u001b[38;5;124mtop\u001b[39m\u001b[38;5;124m'\u001b[39m \u001b[38;5;129;01mor\u001b[39;00m \u001b[38;5;124m'\u001b[39m\u001b[38;5;124mrising\u001b[39m\u001b[38;5;124m'\u001b[39m:\n\u001b[0;32m     15\u001b[0m         \u001b[38;5;28mprint\u001b[39m(text)\n",
      "File \u001b[1;32m~\\AppData\\Roaming\\Python\\Python311\\site-packages\\ipykernel\\kernelbase.py:1282\u001b[0m, in \u001b[0;36mKernel.raw_input\u001b[1;34m(self, prompt)\u001b[0m\n\u001b[0;32m   1280\u001b[0m     msg \u001b[38;5;241m=\u001b[39m \u001b[38;5;124m\"\u001b[39m\u001b[38;5;124mraw_input was called, but this frontend does not support input requests.\u001b[39m\u001b[38;5;124m\"\u001b[39m\n\u001b[0;32m   1281\u001b[0m     \u001b[38;5;28;01mraise\u001b[39;00m StdinNotImplementedError(msg)\n\u001b[1;32m-> 1282\u001b[0m \u001b[38;5;28;01mreturn\u001b[39;00m \u001b[38;5;28;43mself\u001b[39;49m\u001b[38;5;241;43m.\u001b[39;49m\u001b[43m_input_request\u001b[49m\u001b[43m(\u001b[49m\n\u001b[0;32m   1283\u001b[0m \u001b[43m    \u001b[49m\u001b[38;5;28;43mstr\u001b[39;49m\u001b[43m(\u001b[49m\u001b[43mprompt\u001b[49m\u001b[43m)\u001b[49m\u001b[43m,\u001b[49m\n\u001b[0;32m   1284\u001b[0m \u001b[43m    \u001b[49m\u001b[38;5;28;43mself\u001b[39;49m\u001b[38;5;241;43m.\u001b[39;49m\u001b[43m_parent_ident\u001b[49m\u001b[43m[\u001b[49m\u001b[38;5;124;43m\"\u001b[39;49m\u001b[38;5;124;43mshell\u001b[39;49m\u001b[38;5;124;43m\"\u001b[39;49m\u001b[43m]\u001b[49m\u001b[43m,\u001b[49m\n\u001b[0;32m   1285\u001b[0m \u001b[43m    \u001b[49m\u001b[38;5;28;43mself\u001b[39;49m\u001b[38;5;241;43m.\u001b[39;49m\u001b[43mget_parent\u001b[49m\u001b[43m(\u001b[49m\u001b[38;5;124;43m\"\u001b[39;49m\u001b[38;5;124;43mshell\u001b[39;49m\u001b[38;5;124;43m\"\u001b[39;49m\u001b[43m)\u001b[49m\u001b[43m,\u001b[49m\n\u001b[0;32m   1286\u001b[0m \u001b[43m    \u001b[49m\u001b[43mpassword\u001b[49m\u001b[38;5;241;43m=\u001b[39;49m\u001b[38;5;28;43;01mFalse\u001b[39;49;00m\u001b[43m,\u001b[49m\n\u001b[0;32m   1287\u001b[0m \u001b[43m\u001b[49m\u001b[43m)\u001b[49m\n",
      "File \u001b[1;32m~\\AppData\\Roaming\\Python\\Python311\\site-packages\\ipykernel\\kernelbase.py:1325\u001b[0m, in \u001b[0;36mKernel._input_request\u001b[1;34m(self, prompt, ident, parent, password)\u001b[0m\n\u001b[0;32m   1322\u001b[0m \u001b[38;5;28;01mexcept\u001b[39;00m \u001b[38;5;167;01mKeyboardInterrupt\u001b[39;00m:\n\u001b[0;32m   1323\u001b[0m     \u001b[38;5;66;03m# re-raise KeyboardInterrupt, to truncate traceback\u001b[39;00m\n\u001b[0;32m   1324\u001b[0m     msg \u001b[38;5;241m=\u001b[39m \u001b[38;5;124m\"\u001b[39m\u001b[38;5;124mInterrupted by user\u001b[39m\u001b[38;5;124m\"\u001b[39m\n\u001b[1;32m-> 1325\u001b[0m     \u001b[38;5;28;01mraise\u001b[39;00m \u001b[38;5;167;01mKeyboardInterrupt\u001b[39;00m(msg) \u001b[38;5;28;01mfrom\u001b[39;00m \u001b[38;5;28;01mNone\u001b[39;00m\n\u001b[0;32m   1326\u001b[0m \u001b[38;5;28;01mexcept\u001b[39;00m \u001b[38;5;167;01mException\u001b[39;00m:\n\u001b[0;32m   1327\u001b[0m     \u001b[38;5;28mself\u001b[39m\u001b[38;5;241m.\u001b[39mlog\u001b[38;5;241m.\u001b[39mwarning(\u001b[38;5;124m\"\u001b[39m\u001b[38;5;124mInvalid Message:\u001b[39m\u001b[38;5;124m\"\u001b[39m, exc_info\u001b[38;5;241m=\u001b[39m\u001b[38;5;28;01mTrue\u001b[39;00m)\n",
      "\u001b[1;31mKeyboardInterrupt\u001b[0m: Interrupted by user"
     ]
    }
   ],
   "source": [
    "\n",
    "\n",
    "    \n",
    "if __name__ == '__main__':\n",
    "    # subreddit = get_subreddit('cscareerquestions', 'new')\n",
    "    # df = parse_subreddit(subreddit)\n",
    "    # output = calc_accuracy(df, 0.3)\n",
    "    # print(output)\n",
    "    print(\"Hello, welcome to my reddit sentiment bot.\")\n",
    "    print(\"Type exit at any timeto stop the program.\")\n",
    "    print(\"Please enter a subreddit\")\n",
    "    subreddit = input(\"Text: \")\n",
    "    \n",
    "    while text.lower() != 'exit':\n",
    "        print(\"Please type one of the following sorting methods: best | hot | new | top | rising\")\n",
    "        text: str = input('method: ')\n",
    "\n",
    "        if text.lower == 'best' or 'hot' or 'new' or 'top' or 'rising':\n",
    "            print(\"Searching for subreddit: \", subreddit)\n",
    "            print(\"Getting the last 100 of: \", text)\n",
    "            subreddit = get_subreddit(subreddit, text)\n",
    "        else:\n",
    "            print(\"Invalid entry, please try again.\")\n",
    "        \n",
    "        \n",
    "\n",
    "        #print(f'{mood.emoji} ({mood.sentiment})')\n"
   ]
  }
 ],
 "metadata": {
  "kernelspec": {
   "display_name": "Python 3",
   "language": "python",
   "name": "python3"
  },
  "language_info": {
   "codemirror_mode": {
    "name": "ipython",
    "version": 3
   },
   "file_extension": ".py",
   "mimetype": "text/x-python",
   "name": "python",
   "nbconvert_exporter": "python",
   "pygments_lexer": "ipython3",
   "version": "3.11.9"
  }
 },
 "nbformat": 4,
 "nbformat_minor": 2
}
